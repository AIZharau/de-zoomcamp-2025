{
 "cells": [
  {
   "cell_type": "code",
   "execution_count": 1,
   "id": "a00cbb3d-3c39-47fb-ae3d-3b3c66173b5e",
   "metadata": {},
   "outputs": [],
   "source": [
    "import dlt\n",
    "import datetime\n",
    "import os\n",
    "import gzip\n",
    "import pandas as pd\n",
    "from dlt.sources.helpers import requests\n",
    "from dlt.common.libs.pyarrow import pyarrow as pa"
   ]
  },
  {
   "cell_type": "code",
   "execution_count": 2,
   "id": "4ea1963c-96f4-45d2-98bb-2b935110bfba",
   "metadata": {},
   "outputs": [],
   "source": [
    "BATCH_SIZE = 100_000\n",
    "GROUP_NAME = DESTINATION_SCHEMA_NAME = \"ny_taxi\""
   ]
  },
  {
   "cell_type": "code",
   "execution_count": 3,
   "id": "e7b03260-a172-45eb-892f-766c9daf07c6",
   "metadata": {},
   "outputs": [],
   "source": [
    "def get_taxi_data_url(taxi_type, year, month):\n",
    "    \"\"\"Generates URL for downloading data.\"\"\"\n",
    "    base_url = \"https://github.com/DataTalksClub/nyc-tlc-data/releases/download\"\n",
    "    return f\"{base_url}/{taxi_type}/{taxi_type}_tripdata_{year}-{month:02d}.csv.gz\""
   ]
  },
  {
   "cell_type": "code",
   "execution_count": 9,
   "id": "f503f25c-c37d-480b-857c-a1d71523e6c9",
   "metadata": {},
   "outputs": [],
   "source": [
    "@dlt.source(name=\"ny_taxi\")\n",
    "def ny_taxi_source(\n",
    "    taxi_type: str,\n",
    "    year: str,\n",
    "    month: str,\n",
    "):\n",
    "    @dlt.resource(\n",
    "        name=f\"taxi_data_{taxi_type}\",\n",
    "        table_format=\"iceberg\",\n",
    "        file_format=\"parquet\",\n",
    "        write_disposition=\"append\",\n",
    "        columns={\"custom_date\": {\"partition\": True}},\n",
    "    )\n",
    "    def taxi_data_chunker():\n",
    "        url = get_taxi_data_url(taxi_type, year, month)\n",
    "\n",
    "        # Download and process the .gz file in parts\n",
    "        with requests.get(url, stream=True) as response:\n",
    "            response.raise_for_status()\n",
    "\n",
    "            # Unpack the .gz file and read the CSV in parts\n",
    "            with gzip.GzipFile(fileobj=response.raw) as gz_file:\n",
    "                # Read CSV in parts using pandas\n",
    "                for chunk in pd.read_csv(gz_file, chunksize=BATCH_SIZE):\n",
    "                    chunk = chunk.astype(\"string\")\n",
    "                    # Transform the chunk into PyArrow Table and add custom_date column\n",
    "                    table = pa.Table.from_pandas(chunk)\n",
    "\n",
    "                    date_column = pa.array(\n",
    "                        [datetime.date(year, month, 1)] * len(table), type=pa.date32()\n",
    "                    )\n",
    "\n",
    "                    table = table.append_column(\n",
    "                        \"custom_date\", pa.chunked_array([date_column])\n",
    "                    )\n",
    "\n",
    "                    yield table\n",
    "\n",
    "    resource = taxi_data_chunker\n",
    "\n",
    "    return resource"
   ]
  },
  {
   "cell_type": "code",
   "execution_count": 6,
   "id": "8511f05b-b37f-49ee-9586-9db940c4294e",
   "metadata": {},
   "outputs": [],
   "source": [
    "from dotenv import load_dotenv\n",
    "\n",
    "load_dotenv()\n",
    "\n",
    "# Creating a Configuration for S3 bucket\n",
    "BUCKET_NAME = \"zoomcamp\"\n",
    "s3_config = {\n",
    "    \"aws_access_key_id\": os.getenv(\"AWS_ACCESS_KEY_ID\"),\n",
    "    \"aws_secret_access_key\": os.getenv(\"AWS_SECRET_ACCESS_KEY\"),\n",
    "    \"endpoint_url\": os.getenv(\"ENDPOINT_URL\"),\n",
    "    \"bucket_url\": os.getenv(\"BUCKET_URL\"),\n",
    "    \"region\": os.getenv(\"REGION\"),\n",
    "    \"use_ssl\": False,\n",
    "}"
   ]
  },
  {
   "cell_type": "code",
   "execution_count": 7,
   "id": "6ed10815-e5b8-4bb6-be17-5a5d00879c83",
   "metadata": {},
   "outputs": [],
   "source": [
    "# Create a pipeline and configure it to write to S3\n",
    "pipeline = dlt.pipeline(\n",
    "    pipeline_name=\"ny_taxi_pipeline\", destination=\"filesystem\", dataset_name=\"ny_taxi\"\n",
    ")\n",
    "\n",
    "# Setting filesystem s3\n",
    "filesystem_config = {\n",
    "    \"credentials\": s3_config,\n",
    "}"
   ]
  },
  {
   "cell_type": "code",
   "execution_count": 10,
   "id": "d1b54b45-4452-4a5c-be72-41a1987be175",
   "metadata": {
    "scrolled": true
   },
   "outputs": [
    {
     "name": "stdout",
     "output_type": "stream",
     "text": [
      "Finished processing green data for 2019-1.\n",
      "Finished processing green data for 2019-2.\n",
      "Finished processing green data for 2019-3.\n",
      "Finished processing green data for 2019-4.\n",
      "Finished processing green data for 2019-5.\n",
      "Finished processing green data for 2019-6.\n"
     ]
    },
    {
     "name": "stderr",
     "output_type": "stream",
     "text": [
      "/var/folders/5_/l16w4rr52cjb2dbdx3j2d4ym0000gn/T/ipykernel_98555/3013525484.py:25: DtypeWarning: Columns (3) have mixed types. Specify dtype option on import or set low_memory=False.\n",
      "  for chunk in pd.read_csv(gz_file, chunksize=BATCH_SIZE):\n"
     ]
    },
    {
     "name": "stdout",
     "output_type": "stream",
     "text": [
      "Finished processing green data for 2019-7.\n",
      "Finished processing green data for 2019-8.\n"
     ]
    },
    {
     "name": "stderr",
     "output_type": "stream",
     "text": [
      "/var/folders/5_/l16w4rr52cjb2dbdx3j2d4ym0000gn/T/ipykernel_98555/3013525484.py:25: DtypeWarning: Columns (3) have mixed types. Specify dtype option on import or set low_memory=False.\n",
      "  for chunk in pd.read_csv(gz_file, chunksize=BATCH_SIZE):\n"
     ]
    },
    {
     "name": "stdout",
     "output_type": "stream",
     "text": [
      "Finished processing green data for 2019-9.\n"
     ]
    },
    {
     "name": "stderr",
     "output_type": "stream",
     "text": [
      "/var/folders/5_/l16w4rr52cjb2dbdx3j2d4ym0000gn/T/ipykernel_98555/3013525484.py:25: DtypeWarning: Columns (3) have mixed types. Specify dtype option on import or set low_memory=False.\n",
      "  for chunk in pd.read_csv(gz_file, chunksize=BATCH_SIZE):\n"
     ]
    },
    {
     "name": "stdout",
     "output_type": "stream",
     "text": [
      "Finished processing green data for 2019-10.\n"
     ]
    },
    {
     "name": "stderr",
     "output_type": "stream",
     "text": [
      "/var/folders/5_/l16w4rr52cjb2dbdx3j2d4ym0000gn/T/ipykernel_98555/3013525484.py:25: DtypeWarning: Columns (3) have mixed types. Specify dtype option on import or set low_memory=False.\n",
      "  for chunk in pd.read_csv(gz_file, chunksize=BATCH_SIZE):\n"
     ]
    },
    {
     "name": "stdout",
     "output_type": "stream",
     "text": [
      "Finished processing green data for 2019-11.\n"
     ]
    },
    {
     "name": "stderr",
     "output_type": "stream",
     "text": [
      "/var/folders/5_/l16w4rr52cjb2dbdx3j2d4ym0000gn/T/ipykernel_98555/3013525484.py:25: DtypeWarning: Columns (3) have mixed types. Specify dtype option on import or set low_memory=False.\n",
      "  for chunk in pd.read_csv(gz_file, chunksize=BATCH_SIZE):\n"
     ]
    },
    {
     "name": "stdout",
     "output_type": "stream",
     "text": [
      "Finished processing green data for 2019-12.\n"
     ]
    },
    {
     "name": "stderr",
     "output_type": "stream",
     "text": [
      "/var/folders/5_/l16w4rr52cjb2dbdx3j2d4ym0000gn/T/ipykernel_98555/3013525484.py:25: DtypeWarning: Columns (3) have mixed types. Specify dtype option on import or set low_memory=False.\n",
      "  for chunk in pd.read_csv(gz_file, chunksize=BATCH_SIZE):\n"
     ]
    },
    {
     "name": "stdout",
     "output_type": "stream",
     "text": [
      "Finished processing green data for 2020-1.\n"
     ]
    },
    {
     "name": "stderr",
     "output_type": "stream",
     "text": [
      "/var/folders/5_/l16w4rr52cjb2dbdx3j2d4ym0000gn/T/ipykernel_98555/3013525484.py:25: DtypeWarning: Columns (3) have mixed types. Specify dtype option on import or set low_memory=False.\n",
      "  for chunk in pd.read_csv(gz_file, chunksize=BATCH_SIZE):\n"
     ]
    },
    {
     "name": "stdout",
     "output_type": "stream",
     "text": [
      "Finished processing green data for 2020-2.\n"
     ]
    },
    {
     "name": "stderr",
     "output_type": "stream",
     "text": [
      "/var/folders/5_/l16w4rr52cjb2dbdx3j2d4ym0000gn/T/ipykernel_98555/3013525484.py:25: DtypeWarning: Columns (3) have mixed types. Specify dtype option on import or set low_memory=False.\n",
      "  for chunk in pd.read_csv(gz_file, chunksize=BATCH_SIZE):\n"
     ]
    },
    {
     "name": "stdout",
     "output_type": "stream",
     "text": [
      "Finished processing green data for 2020-3.\n"
     ]
    },
    {
     "name": "stderr",
     "output_type": "stream",
     "text": [
      "/var/folders/5_/l16w4rr52cjb2dbdx3j2d4ym0000gn/T/ipykernel_98555/3013525484.py:25: DtypeWarning: Columns (3) have mixed types. Specify dtype option on import or set low_memory=False.\n",
      "  for chunk in pd.read_csv(gz_file, chunksize=BATCH_SIZE):\n"
     ]
    },
    {
     "name": "stdout",
     "output_type": "stream",
     "text": [
      "Finished processing green data for 2020-4.\n"
     ]
    },
    {
     "name": "stderr",
     "output_type": "stream",
     "text": [
      "/var/folders/5_/l16w4rr52cjb2dbdx3j2d4ym0000gn/T/ipykernel_98555/3013525484.py:25: DtypeWarning: Columns (3) have mixed types. Specify dtype option on import or set low_memory=False.\n",
      "  for chunk in pd.read_csv(gz_file, chunksize=BATCH_SIZE):\n"
     ]
    },
    {
     "name": "stdout",
     "output_type": "stream",
     "text": [
      "Finished processing green data for 2020-5.\n",
      "Finished processing green data for 2020-6.\n"
     ]
    },
    {
     "name": "stderr",
     "output_type": "stream",
     "text": [
      "/var/folders/5_/l16w4rr52cjb2dbdx3j2d4ym0000gn/T/ipykernel_98555/3013525484.py:25: DtypeWarning: Columns (3) have mixed types. Specify dtype option on import or set low_memory=False.\n",
      "  for chunk in pd.read_csv(gz_file, chunksize=BATCH_SIZE):\n"
     ]
    },
    {
     "name": "stdout",
     "output_type": "stream",
     "text": [
      "Finished processing green data for 2020-7.\n"
     ]
    },
    {
     "name": "stderr",
     "output_type": "stream",
     "text": [
      "/var/folders/5_/l16w4rr52cjb2dbdx3j2d4ym0000gn/T/ipykernel_98555/3013525484.py:25: DtypeWarning: Columns (3) have mixed types. Specify dtype option on import or set low_memory=False.\n",
      "  for chunk in pd.read_csv(gz_file, chunksize=BATCH_SIZE):\n"
     ]
    },
    {
     "name": "stdout",
     "output_type": "stream",
     "text": [
      "Finished processing green data for 2020-8.\n"
     ]
    },
    {
     "name": "stderr",
     "output_type": "stream",
     "text": [
      "/var/folders/5_/l16w4rr52cjb2dbdx3j2d4ym0000gn/T/ipykernel_98555/3013525484.py:25: DtypeWarning: Columns (3) have mixed types. Specify dtype option on import or set low_memory=False.\n",
      "  for chunk in pd.read_csv(gz_file, chunksize=BATCH_SIZE):\n"
     ]
    },
    {
     "name": "stdout",
     "output_type": "stream",
     "text": [
      "Finished processing green data for 2020-9.\n"
     ]
    },
    {
     "name": "stderr",
     "output_type": "stream",
     "text": [
      "/var/folders/5_/l16w4rr52cjb2dbdx3j2d4ym0000gn/T/ipykernel_98555/3013525484.py:25: DtypeWarning: Columns (3) have mixed types. Specify dtype option on import or set low_memory=False.\n",
      "  for chunk in pd.read_csv(gz_file, chunksize=BATCH_SIZE):\n"
     ]
    },
    {
     "name": "stdout",
     "output_type": "stream",
     "text": [
      "Finished processing green data for 2020-10.\n"
     ]
    },
    {
     "name": "stderr",
     "output_type": "stream",
     "text": [
      "/var/folders/5_/l16w4rr52cjb2dbdx3j2d4ym0000gn/T/ipykernel_98555/3013525484.py:25: DtypeWarning: Columns (3) have mixed types. Specify dtype option on import or set low_memory=False.\n",
      "  for chunk in pd.read_csv(gz_file, chunksize=BATCH_SIZE):\n"
     ]
    },
    {
     "name": "stdout",
     "output_type": "stream",
     "text": [
      "Finished processing green data for 2020-11.\n"
     ]
    },
    {
     "name": "stderr",
     "output_type": "stream",
     "text": [
      "/var/folders/5_/l16w4rr52cjb2dbdx3j2d4ym0000gn/T/ipykernel_98555/3013525484.py:25: DtypeWarning: Columns (3) have mixed types. Specify dtype option on import or set low_memory=False.\n",
      "  for chunk in pd.read_csv(gz_file, chunksize=BATCH_SIZE):\n"
     ]
    },
    {
     "name": "stdout",
     "output_type": "stream",
     "text": [
      "Finished processing green data for 2020-12.\n",
      "green loaded in bucket!\n",
      "Finished processing yellow data for 2019-1.\n",
      "Finished processing yellow data for 2019-2.\n",
      "Finished processing yellow data for 2019-3.\n",
      "Finished processing yellow data for 2019-4.\n",
      "Finished processing yellow data for 2019-5.\n",
      "Finished processing yellow data for 2019-6.\n"
     ]
    },
    {
     "name": "stderr",
     "output_type": "stream",
     "text": [
      "/var/folders/5_/l16w4rr52cjb2dbdx3j2d4ym0000gn/T/ipykernel_98555/3013525484.py:25: DtypeWarning: Columns (6) have mixed types. Specify dtype option on import or set low_memory=False.\n",
      "  for chunk in pd.read_csv(gz_file, chunksize=BATCH_SIZE):\n"
     ]
    },
    {
     "name": "stdout",
     "output_type": "stream",
     "text": [
      "Finished processing yellow data for 2019-7.\n"
     ]
    },
    {
     "name": "stderr",
     "output_type": "stream",
     "text": [
      "/var/folders/5_/l16w4rr52cjb2dbdx3j2d4ym0000gn/T/ipykernel_98555/3013525484.py:25: DtypeWarning: Columns (6) have mixed types. Specify dtype option on import or set low_memory=False.\n",
      "  for chunk in pd.read_csv(gz_file, chunksize=BATCH_SIZE):\n"
     ]
    },
    {
     "name": "stdout",
     "output_type": "stream",
     "text": [
      "Finished processing yellow data for 2019-8.\n"
     ]
    },
    {
     "name": "stderr",
     "output_type": "stream",
     "text": [
      "/var/folders/5_/l16w4rr52cjb2dbdx3j2d4ym0000gn/T/ipykernel_98555/3013525484.py:25: DtypeWarning: Columns (6) have mixed types. Specify dtype option on import or set low_memory=False.\n",
      "  for chunk in pd.read_csv(gz_file, chunksize=BATCH_SIZE):\n"
     ]
    },
    {
     "name": "stdout",
     "output_type": "stream",
     "text": [
      "Finished processing yellow data for 2019-9.\n"
     ]
    },
    {
     "name": "stderr",
     "output_type": "stream",
     "text": [
      "/var/folders/5_/l16w4rr52cjb2dbdx3j2d4ym0000gn/T/ipykernel_98555/3013525484.py:25: DtypeWarning: Columns (6) have mixed types. Specify dtype option on import or set low_memory=False.\n",
      "  for chunk in pd.read_csv(gz_file, chunksize=BATCH_SIZE):\n"
     ]
    },
    {
     "name": "stdout",
     "output_type": "stream",
     "text": [
      "Finished processing yellow data for 2019-10.\n"
     ]
    },
    {
     "name": "stderr",
     "output_type": "stream",
     "text": [
      "/var/folders/5_/l16w4rr52cjb2dbdx3j2d4ym0000gn/T/ipykernel_98555/3013525484.py:25: DtypeWarning: Columns (6) have mixed types. Specify dtype option on import or set low_memory=False.\n",
      "  for chunk in pd.read_csv(gz_file, chunksize=BATCH_SIZE):\n"
     ]
    },
    {
     "name": "stdout",
     "output_type": "stream",
     "text": [
      "Finished processing yellow data for 2019-11.\n"
     ]
    },
    {
     "name": "stderr",
     "output_type": "stream",
     "text": [
      "/var/folders/5_/l16w4rr52cjb2dbdx3j2d4ym0000gn/T/ipykernel_98555/3013525484.py:25: DtypeWarning: Columns (6) have mixed types. Specify dtype option on import or set low_memory=False.\n",
      "  for chunk in pd.read_csv(gz_file, chunksize=BATCH_SIZE):\n"
     ]
    },
    {
     "name": "stdout",
     "output_type": "stream",
     "text": [
      "Finished processing yellow data for 2019-12.\n"
     ]
    },
    {
     "name": "stderr",
     "output_type": "stream",
     "text": [
      "/var/folders/5_/l16w4rr52cjb2dbdx3j2d4ym0000gn/T/ipykernel_98555/3013525484.py:25: DtypeWarning: Columns (6) have mixed types. Specify dtype option on import or set low_memory=False.\n",
      "  for chunk in pd.read_csv(gz_file, chunksize=BATCH_SIZE):\n"
     ]
    },
    {
     "name": "stdout",
     "output_type": "stream",
     "text": [
      "Finished processing yellow data for 2020-1.\n"
     ]
    },
    {
     "name": "stderr",
     "output_type": "stream",
     "text": [
      "/var/folders/5_/l16w4rr52cjb2dbdx3j2d4ym0000gn/T/ipykernel_98555/3013525484.py:25: DtypeWarning: Columns (6) have mixed types. Specify dtype option on import or set low_memory=False.\n",
      "  for chunk in pd.read_csv(gz_file, chunksize=BATCH_SIZE):\n"
     ]
    },
    {
     "name": "stdout",
     "output_type": "stream",
     "text": [
      "Finished processing yellow data for 2020-2.\n"
     ]
    },
    {
     "name": "stderr",
     "output_type": "stream",
     "text": [
      "/var/folders/5_/l16w4rr52cjb2dbdx3j2d4ym0000gn/T/ipykernel_98555/3013525484.py:25: DtypeWarning: Columns (6) have mixed types. Specify dtype option on import or set low_memory=False.\n",
      "  for chunk in pd.read_csv(gz_file, chunksize=BATCH_SIZE):\n"
     ]
    },
    {
     "name": "stdout",
     "output_type": "stream",
     "text": [
      "Finished processing yellow data for 2020-3.\n"
     ]
    },
    {
     "name": "stderr",
     "output_type": "stream",
     "text": [
      "/var/folders/5_/l16w4rr52cjb2dbdx3j2d4ym0000gn/T/ipykernel_98555/3013525484.py:25: DtypeWarning: Columns (6) have mixed types. Specify dtype option on import or set low_memory=False.\n",
      "  for chunk in pd.read_csv(gz_file, chunksize=BATCH_SIZE):\n"
     ]
    },
    {
     "name": "stdout",
     "output_type": "stream",
     "text": [
      "Finished processing yellow data for 2020-4.\n"
     ]
    },
    {
     "name": "stderr",
     "output_type": "stream",
     "text": [
      "/var/folders/5_/l16w4rr52cjb2dbdx3j2d4ym0000gn/T/ipykernel_98555/3013525484.py:25: DtypeWarning: Columns (6) have mixed types. Specify dtype option on import or set low_memory=False.\n",
      "  for chunk in pd.read_csv(gz_file, chunksize=BATCH_SIZE):\n"
     ]
    },
    {
     "name": "stdout",
     "output_type": "stream",
     "text": [
      "Finished processing yellow data for 2020-5.\n",
      "Finished processing yellow data for 2020-6.\n"
     ]
    },
    {
     "name": "stderr",
     "output_type": "stream",
     "text": [
      "/var/folders/5_/l16w4rr52cjb2dbdx3j2d4ym0000gn/T/ipykernel_98555/3013525484.py:25: DtypeWarning: Columns (6) have mixed types. Specify dtype option on import or set low_memory=False.\n",
      "  for chunk in pd.read_csv(gz_file, chunksize=BATCH_SIZE):\n"
     ]
    },
    {
     "name": "stdout",
     "output_type": "stream",
     "text": [
      "Finished processing yellow data for 2020-7.\n"
     ]
    },
    {
     "name": "stderr",
     "output_type": "stream",
     "text": [
      "/var/folders/5_/l16w4rr52cjb2dbdx3j2d4ym0000gn/T/ipykernel_98555/3013525484.py:25: DtypeWarning: Columns (6) have mixed types. Specify dtype option on import or set low_memory=False.\n",
      "  for chunk in pd.read_csv(gz_file, chunksize=BATCH_SIZE):\n"
     ]
    },
    {
     "name": "stdout",
     "output_type": "stream",
     "text": [
      "Finished processing yellow data for 2020-8.\n"
     ]
    },
    {
     "name": "stderr",
     "output_type": "stream",
     "text": [
      "/var/folders/5_/l16w4rr52cjb2dbdx3j2d4ym0000gn/T/ipykernel_98555/3013525484.py:25: DtypeWarning: Columns (6) have mixed types. Specify dtype option on import or set low_memory=False.\n",
      "  for chunk in pd.read_csv(gz_file, chunksize=BATCH_SIZE):\n"
     ]
    },
    {
     "name": "stdout",
     "output_type": "stream",
     "text": [
      "Finished processing yellow data for 2020-9.\n"
     ]
    },
    {
     "name": "stderr",
     "output_type": "stream",
     "text": [
      "/var/folders/5_/l16w4rr52cjb2dbdx3j2d4ym0000gn/T/ipykernel_98555/3013525484.py:25: DtypeWarning: Columns (6) have mixed types. Specify dtype option on import or set low_memory=False.\n",
      "  for chunk in pd.read_csv(gz_file, chunksize=BATCH_SIZE):\n"
     ]
    },
    {
     "name": "stdout",
     "output_type": "stream",
     "text": [
      "Finished processing yellow data for 2020-10.\n"
     ]
    },
    {
     "name": "stderr",
     "output_type": "stream",
     "text": [
      "/var/folders/5_/l16w4rr52cjb2dbdx3j2d4ym0000gn/T/ipykernel_98555/3013525484.py:25: DtypeWarning: Columns (6) have mixed types. Specify dtype option on import or set low_memory=False.\n",
      "  for chunk in pd.read_csv(gz_file, chunksize=BATCH_SIZE):\n"
     ]
    },
    {
     "name": "stdout",
     "output_type": "stream",
     "text": [
      "Finished processing yellow data for 2020-11.\n"
     ]
    },
    {
     "name": "stderr",
     "output_type": "stream",
     "text": [
      "/var/folders/5_/l16w4rr52cjb2dbdx3j2d4ym0000gn/T/ipykernel_98555/3013525484.py:25: DtypeWarning: Columns (6) have mixed types. Specify dtype option on import or set low_memory=False.\n",
      "  for chunk in pd.read_csv(gz_file, chunksize=BATCH_SIZE):\n"
     ]
    },
    {
     "name": "stdout",
     "output_type": "stream",
     "text": [
      "Finished processing yellow data for 2020-12.\n",
      "yellow loaded in bucket!\n",
      "LOADING COMPLETED!\n"
     ]
    }
   ],
   "source": [
    "# Loading data by types years months\n",
    "taxi_types = [\"green\", \"yellow\"]\n",
    "years = [2019, 2020]\n",
    "\n",
    "for taxi_type in taxi_types:\n",
    "    for year in years:\n",
    "        for month in range(1, 13):\n",
    "            s3_path = f\"{taxi_type}/{year}/{month}/\"\n",
    "            resource = ny_taxi_source(taxi_type=taxi_type, year=year, month=month)\n",
    "            resource.staging_path = s3_path\n",
    "\n",
    "            pipeline.run(\n",
    "                resource,\n",
    "                loader_file_format=\"parquet\",\n",
    "                table_format=\"iceberg\",\n",
    "                **filesystem_config,\n",
    "            )\n",
    "\n",
    "            print(f\"Finished processing {taxi_type} data for {year}-{month}.\")\n",
    "    print(f\"{taxi_type} loaded in bucket!\")\n",
    "print(\"LOADING COMPLETED!\")"
   ]
  },
  {
   "cell_type": "code",
   "execution_count": null,
   "id": "a4e9e42e-80c7-4157-a99b-454938f817d2",
   "metadata": {},
   "outputs": [
    {
     "name": "stdout",
     "output_type": "stream",
     "text": [
      "Finished processing fhv data for 2019-1.\n",
      "Finished processing fhv data for 2019-2.\n",
      "Finished processing fhv data for 2019-3.\n",
      "Finished processing fhv data for 2019-4.\n",
      "Finished processing fhv data for 2019-5.\n"
     ]
    }
   ],
   "source": [
    "# Loading data by types years months\n",
    "taxi_types = [\"fhv\"]\n",
    "years = [2019]\n",
    "\n",
    "for taxi_type in taxi_types:\n",
    "    for year in years:\n",
    "        for month in range(1, 13):\n",
    "            s3_path = f\"{taxi_type}/{year}/{month}/\"\n",
    "            resource = ny_taxi_source(taxi_type=taxi_type, year=year, month=month)\n",
    "            resource.staging_path = s3_path\n",
    "\n",
    "            pipeline.run(\n",
    "                resource,\n",
    "                loader_file_format=\"parquet\",\n",
    "                table_format=\"iceberg\",\n",
    "                **filesystem_config,\n",
    "            )\n",
    "\n",
    "            print(f\"Finished processing {taxi_type} data for {year}-{month}.\")\n",
    "print(\"LOADING COMPLETED!\")"
   ]
  },
  {
   "cell_type": "code",
   "execution_count": null,
   "id": "ab2e011e-d40a-49d3-8eb5-f9dca84e3cab",
   "metadata": {},
   "outputs": [],
   "source": []
  }
 ],
 "metadata": {
  "kernelspec": {
   "display_name": "Python 3.12",
   "language": "python",
   "name": "myenv"
  },
  "language_info": {
   "codemirror_mode": {
    "name": "ipython",
    "version": 3
   },
   "file_extension": ".py",
   "mimetype": "text/x-python",
   "name": "python",
   "nbconvert_exporter": "python",
   "pygments_lexer": "ipython3",
   "version": "3.10.16"
  }
 },
 "nbformat": 4,
 "nbformat_minor": 5
}
