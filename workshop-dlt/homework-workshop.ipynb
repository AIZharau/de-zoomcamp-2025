{
 "cells": [
  {
   "cell_type": "markdown",
   "id": "d4cdaac9-532d-4f55-adf4-917a00a24659",
   "metadata": {},
   "source": [
    "# Homework \"Data Ingestion with dlt\""
   ]
  },
  {
   "cell_type": "markdown",
   "id": "b32f2dbe-282d-4e94-985b-106f7443de3e",
   "metadata": {},
   "source": [
    "---\n",
    "\n",
    "We’ll use NYC Taxi data via the same custom API from the workshop:\n",
    "\n",
    "**Base API URL**:\n",
    "https://us-central1-dlthub-analytics.cloudfunctions.net/data_engineering_zoomcamp_api\n",
    "\n",
    "**Data format**: Paginated JSON (1,000 records per page).\n",
    "\n",
    "**API Pagination**: Stop when an empty page is returned.\n",
    "\n",
    "---"
   ]
  },
  {
   "cell_type": "markdown",
   "id": "60f0f70b-b20c-4957-89ad-cafbab3a8ba5",
   "metadata": {},
   "source": [
    "# Question 1: dlt Version\n",
    "1. **Install** dlt:"
   ]
  },
  {
   "cell_type": "code",
   "execution_count": 10,
   "id": "5e406909-386f-4259-b85e-1ec21ab1370a",
   "metadata": {},
   "outputs": [
    {
     "name": "stdout",
     "output_type": "stream",
     "text": [
      "Requirement already satisfied: dlt[duckdb] in /Users/zharauai/de-zoomcamp-2025/.venv/lib/python3.9/site-packages (1.6.1)\n",
      "Requirement already satisfied: PyYAML>=5.4.1 in /Users/zharauai/de-zoomcamp-2025/.venv/lib/python3.9/site-packages (from dlt[duckdb]) (6.0.2)\n",
      "Requirement already satisfied: click>=7.1 in /Users/zharauai/de-zoomcamp-2025/.venv/lib/python3.9/site-packages (from dlt[duckdb]) (8.1.8)\n",
      "Requirement already satisfied: fsspec>=2022.4.0 in /Users/zharauai/de-zoomcamp-2025/.venv/lib/python3.9/site-packages (from dlt[duckdb]) (2025.2.0)\n",
      "Requirement already satisfied: gitpython>=3.1.29 in /Users/zharauai/de-zoomcamp-2025/.venv/lib/python3.9/site-packages (from dlt[duckdb]) (3.1.44)\n",
      "Requirement already satisfied: giturlparse>=0.10.0 in /Users/zharauai/de-zoomcamp-2025/.venv/lib/python3.9/site-packages (from dlt[duckdb]) (0.12.0)\n",
      "Requirement already satisfied: hexbytes>=0.2.2 in /Users/zharauai/de-zoomcamp-2025/.venv/lib/python3.9/site-packages (from dlt[duckdb]) (1.3.0)\n",
      "Requirement already satisfied: humanize>=4.4.0 in /Users/zharauai/de-zoomcamp-2025/.venv/lib/python3.9/site-packages (from dlt[duckdb]) (4.12.0)\n",
      "Requirement already satisfied: jsonpath-ng>=1.5.3 in /Users/zharauai/de-zoomcamp-2025/.venv/lib/python3.9/site-packages (from dlt[duckdb]) (1.7.0)\n",
      "Requirement already satisfied: makefun>=1.15.0 in /Users/zharauai/de-zoomcamp-2025/.venv/lib/python3.9/site-packages (from dlt[duckdb]) (1.15.6)\n",
      "Requirement already satisfied: orjson!=3.10.1,!=3.9.11,!=3.9.12,!=3.9.13,!=3.9.14,<4,>=3.6.7 in /Users/zharauai/de-zoomcamp-2025/.venv/lib/python3.9/site-packages (from dlt[duckdb]) (3.10.15)\n",
      "Requirement already satisfied: packaging>=21.1 in /Users/zharauai/de-zoomcamp-2025/.venv/lib/python3.9/site-packages (from dlt[duckdb]) (24.2)\n",
      "Requirement already satisfied: pathvalidate>=2.5.2 in /Users/zharauai/de-zoomcamp-2025/.venv/lib/python3.9/site-packages (from dlt[duckdb]) (3.2.3)\n",
      "Requirement already satisfied: pendulum>=2.1.2 in /Users/zharauai/de-zoomcamp-2025/.venv/lib/python3.9/site-packages (from dlt[duckdb]) (3.0.0)\n",
      "Requirement already satisfied: pluggy>=1.3.0 in /Users/zharauai/de-zoomcamp-2025/.venv/lib/python3.9/site-packages (from dlt[duckdb]) (1.5.0)\n",
      "Requirement already satisfied: pytz>=2022.6 in /Users/zharauai/de-zoomcamp-2025/.venv/lib/python3.9/site-packages (from dlt[duckdb]) (2024.2)\n",
      "Requirement already satisfied: requests>=2.26.0 in /Users/zharauai/de-zoomcamp-2025/.venv/lib/python3.9/site-packages (from dlt[duckdb]) (2.32.3)\n",
      "Requirement already satisfied: requirements-parser>=0.5.0 in /Users/zharauai/de-zoomcamp-2025/.venv/lib/python3.9/site-packages (from dlt[duckdb]) (0.11.0)\n",
      "Requirement already satisfied: rich-argparse<2.0.0,>=1.6.0 in /Users/zharauai/de-zoomcamp-2025/.venv/lib/python3.9/site-packages (from dlt[duckdb]) (1.7.0)\n",
      "Requirement already satisfied: semver>=3.0.0 in /Users/zharauai/de-zoomcamp-2025/.venv/lib/python3.9/site-packages (from dlt[duckdb]) (3.0.4)\n",
      "Requirement already satisfied: setuptools>=65.6.0 in /Users/zharauai/de-zoomcamp-2025/.venv/lib/python3.9/site-packages (from dlt[duckdb]) (75.6.0)\n",
      "Requirement already satisfied: simplejson>=3.17.5 in /Users/zharauai/de-zoomcamp-2025/.venv/lib/python3.9/site-packages (from dlt[duckdb]) (3.20.1)\n",
      "Requirement already satisfied: tenacity>=8.0.2 in /Users/zharauai/de-zoomcamp-2025/.venv/lib/python3.9/site-packages (from dlt[duckdb]) (9.0.0)\n",
      "Requirement already satisfied: tomlkit>=0.11.3 in /Users/zharauai/de-zoomcamp-2025/.venv/lib/python3.9/site-packages (from dlt[duckdb]) (0.13.2)\n",
      "Requirement already satisfied: typing-extensions>=4.8.0 in /Users/zharauai/de-zoomcamp-2025/.venv/lib/python3.9/site-packages (from dlt[duckdb]) (4.12.2)\n",
      "Requirement already satisfied: tzdata>=2022.1 in /Users/zharauai/de-zoomcamp-2025/.venv/lib/python3.9/site-packages (from dlt[duckdb]) (2025.1)\n",
      "Requirement already satisfied: duckdb>=0.9 in /Users/zharauai/de-zoomcamp-2025/.venv/lib/python3.9/site-packages (from dlt[duckdb]) (1.2.0)\n",
      "Requirement already satisfied: gitdb<5,>=4.0.1 in /Users/zharauai/de-zoomcamp-2025/.venv/lib/python3.9/site-packages (from gitpython>=3.1.29->dlt[duckdb]) (4.0.12)\n",
      "Requirement already satisfied: ply in /Users/zharauai/de-zoomcamp-2025/.venv/lib/python3.9/site-packages (from jsonpath-ng>=1.5.3->dlt[duckdb]) (3.11)\n",
      "Requirement already satisfied: python-dateutil>=2.6 in /Users/zharauai/de-zoomcamp-2025/.venv/lib/python3.9/site-packages (from pendulum>=2.1.2->dlt[duckdb]) (2.9.0.post0)\n",
      "Requirement already satisfied: time-machine>=2.6.0 in /Users/zharauai/de-zoomcamp-2025/.venv/lib/python3.9/site-packages (from pendulum>=2.1.2->dlt[duckdb]) (2.16.0)\n",
      "Requirement already satisfied: charset-normalizer<4,>=2 in /Users/zharauai/de-zoomcamp-2025/.venv/lib/python3.9/site-packages (from requests>=2.26.0->dlt[duckdb]) (3.4.1)\n",
      "Requirement already satisfied: idna<4,>=2.5 in /Users/zharauai/de-zoomcamp-2025/.venv/lib/python3.9/site-packages (from requests>=2.26.0->dlt[duckdb]) (3.10)\n",
      "Requirement already satisfied: urllib3<3,>=1.21.1 in /Users/zharauai/de-zoomcamp-2025/.venv/lib/python3.9/site-packages (from requests>=2.26.0->dlt[duckdb]) (2.3.0)\n",
      "Requirement already satisfied: certifi>=2017.4.17 in /Users/zharauai/de-zoomcamp-2025/.venv/lib/python3.9/site-packages (from requests>=2.26.0->dlt[duckdb]) (2024.12.14)\n",
      "Requirement already satisfied: types-setuptools>=69.1.0 in /Users/zharauai/de-zoomcamp-2025/.venv/lib/python3.9/site-packages (from requirements-parser>=0.5.0->dlt[duckdb]) (75.8.0.20250210)\n",
      "Requirement already satisfied: rich>=11.0.0 in /Users/zharauai/de-zoomcamp-2025/.venv/lib/python3.9/site-packages (from rich-argparse<2.0.0,>=1.6.0->dlt[duckdb]) (13.9.4)\n",
      "Requirement already satisfied: smmap<6,>=3.0.1 in /Users/zharauai/de-zoomcamp-2025/.venv/lib/python3.9/site-packages (from gitdb<5,>=4.0.1->gitpython>=3.1.29->dlt[duckdb]) (5.0.2)\n",
      "Requirement already satisfied: six>=1.5 in /Users/zharauai/de-zoomcamp-2025/.venv/lib/python3.9/site-packages (from python-dateutil>=2.6->pendulum>=2.1.2->dlt[duckdb]) (1.17.0)\n",
      "Requirement already satisfied: markdown-it-py>=2.2.0 in /Users/zharauai/de-zoomcamp-2025/.venv/lib/python3.9/site-packages (from rich>=11.0.0->rich-argparse<2.0.0,>=1.6.0->dlt[duckdb]) (3.0.0)\n",
      "Requirement already satisfied: pygments<3.0.0,>=2.13.0 in /Users/zharauai/de-zoomcamp-2025/.venv/lib/python3.9/site-packages (from rich>=11.0.0->rich-argparse<2.0.0,>=1.6.0->dlt[duckdb]) (2.19.1)\n",
      "Requirement already satisfied: mdurl~=0.1 in /Users/zharauai/de-zoomcamp-2025/.venv/lib/python3.9/site-packages (from markdown-it-py>=2.2.0->rich>=11.0.0->rich-argparse<2.0.0,>=1.6.0->dlt[duckdb]) (0.1.2)\n"
     ]
    }
   ],
   "source": [
    "!pip install 'dlt[duckdb]'"
   ]
  },
  {
   "cell_type": "markdown",
   "id": "81296ce1-2ce1-4db3-b628-07f9deeee9b1",
   "metadata": {},
   "source": [
    "2. **Check** version:"
   ]
  },
  {
   "cell_type": "code",
   "execution_count": 3,
   "id": "fe5fc6e1-b98f-43ce-9d47-a2ed1ce966bc",
   "metadata": {},
   "outputs": [
    {
     "name": "stdout",
     "output_type": "stream",
     "text": [
      "\u001b[39mdlt 1.6.1\u001b[0m\n"
     ]
    }
   ],
   "source": [
    "!dlt --version"
   ]
  },
  {
   "cell_type": "code",
   "execution_count": 4,
   "id": "b0409b1c-b67a-4651-b318-5b67bb976398",
   "metadata": {},
   "outputs": [
    {
     "name": "stdout",
     "output_type": "stream",
     "text": [
      "dlt version: 1.6.1\n"
     ]
    }
   ],
   "source": [
    "import dlt\n",
    "print(\"dlt version:\", dlt.__version__)"
   ]
  },
  {
   "cell_type": "markdown",
   "id": "94132d9b-30f3-4deb-a13c-d8996abd498c",
   "metadata": {},
   "source": [
    "### Answer: **1.6.1**\n",
    "\n",
    "---\n"
   ]
  },
  {
   "cell_type": "markdown",
   "id": "ce412de7-69f0-4440-ab78-be46534465e7",
   "metadata": {},
   "source": [
    "# Question 2: Define & Run the Pipeline (NYC Taxi API)\n",
    "1. Use the @dlt.resource decorator to define the API source.\n",
    "2. Implement automatic pagination using dlt's built-in REST client.\n",
    "3. Load the extracted data into DuckDB for querying."
   ]
  },
  {
   "cell_type": "code",
   "execution_count": 11,
   "id": "9b36c7c5-fa76-44f7-8bda-70e775e95915",
   "metadata": {},
   "outputs": [],
   "source": [
    "import dlt\n",
    "from dlt.sources.helpers.rest_client import RESTClient\n",
    "from dlt.sources.helpers.rest_client.paginators import PageNumberPaginator"
   ]
  },
  {
   "cell_type": "code",
   "execution_count": 12,
   "id": "7e1bf5f4-1835-440d-b890-0eea46869ec4",
   "metadata": {},
   "outputs": [],
   "source": [
    "# your code is here\n",
    "# Define the API resource for NYC taxi data\n",
    "@dlt.resource(name=\"rides\")   # <--- The name of the resource (will be used as the table name)\n",
    "def ny_taxi():\n",
    "    client = RESTClient(\n",
    "        base_url=\"https://us-central1-dlthub-analytics.cloudfunctions.net\",\n",
    "        paginator=PageNumberPaginator(\n",
    "            base_page=1,\n",
    "            total_path=None\n",
    "        )\n",
    "    )\n",
    "\n",
    "    for page in client.paginate(\"data_engineering_zoomcamp_api\"):    # <--- API endpoint for retrieving taxi ride data\n",
    "        yield page   # <--- yield data to manage memory\n",
    "\n",
    "\n",
    "pipeline = dlt.pipeline(\n",
    "    pipeline_name=\"ny_taxi_pipeline\",\n",
    "    destination=\"duckdb\",\n",
    "    dataset_name=\"ny_taxi_data\"\n",
    ")"
   ]
  },
  {
   "cell_type": "markdown",
   "id": "091963fe-39dc-4441-b0b7-cfeb9b3bb06c",
   "metadata": {},
   "source": [
    "Load the data into DuckDB to test:"
   ]
  },
  {
   "cell_type": "code",
   "execution_count": 13,
   "id": "03d023fe-0133-408f-a48d-82e1b4fead12",
   "metadata": {},
   "outputs": [
    {
     "name": "stdout",
     "output_type": "stream",
     "text": [
      "Pipeline ny_taxi_pipeline load step completed in 0.76 seconds\n",
      "1 load package(s) were loaded to destination duckdb and into dataset ny_taxi_data\n",
      "The duckdb destination used duckdb:////Users/zharauai/de-zoomcamp-2025/workshop-dlt/ny_taxi_pipeline.duckdb location to store data\n",
      "Load package 1739791364.340128 is LOADED and contains no failed jobs\n"
     ]
    }
   ],
   "source": [
    "load_info = pipeline.run(ny_taxi)\n",
    "print(load_info)"
   ]
  },
  {
   "cell_type": "markdown",
   "id": "cc056075-b2db-4d13-9783-23ce5a7365d7",
   "metadata": {},
   "source": [
    "Start a connection to your database using native duckdb connection and look what tables were generated:"
   ]
  },
  {
   "cell_type": "code",
   "execution_count": 14,
   "id": "68ad2c8f-3476-48dd-a507-b842d5e36fe8",
   "metadata": {},
   "outputs": [
    {
     "ename": "ModuleNotFoundError",
     "evalue": "No module named 'google'",
     "output_type": "error",
     "traceback": [
      "\u001b[0;31m---------------------------------------------------------------------------\u001b[0m",
      "\u001b[0;31mModuleNotFoundError\u001b[0m                       Traceback (most recent call last)",
      "Cell \u001b[0;32mIn[14], line 2\u001b[0m\n\u001b[1;32m      1\u001b[0m \u001b[38;5;28;01mimport\u001b[39;00m\u001b[38;5;250m \u001b[39m\u001b[38;5;21;01mduckdb\u001b[39;00m\n\u001b[0;32m----> 2\u001b[0m \u001b[38;5;28;01mfrom\u001b[39;00m\u001b[38;5;250m \u001b[39m\u001b[38;5;21;01mgoogle\u001b[39;00m\u001b[38;5;21;01m.\u001b[39;00m\u001b[38;5;21;01mcolab\u001b[39;00m\u001b[38;5;250m \u001b[39m\u001b[38;5;28;01mimport\u001b[39;00m data_table\n\u001b[1;32m      3\u001b[0m data_table\u001b[38;5;241m.\u001b[39menable_dataframe_formatter()\n\u001b[1;32m      5\u001b[0m \u001b[38;5;66;03m# A database '<pipeline_name>.duckdb' was created in working directory so just connect to it\u001b[39;00m\n\u001b[1;32m      6\u001b[0m \n\u001b[1;32m      7\u001b[0m \u001b[38;5;66;03m# Connect to the DuckDB database\u001b[39;00m\n",
      "\u001b[0;31mModuleNotFoundError\u001b[0m: No module named 'google'"
     ]
    }
   ],
   "source": [
    "import duckdb\n",
    "from google.colab import data_table\n",
    "data_table.enable_dataframe_formatter()\n",
    "\n",
    "# A database '<pipeline_name>.duckdb' was created in working directory so just connect to it\n",
    "\n",
    "# Connect to the DuckDB database\n",
    "conn = duckdb.connect(f\"{pipeline.pipeline_name}.duckdb\")\n",
    "\n",
    "# Set search path to the dataset\n",
    "conn.sql(f\"SET search_path = '{pipeline.dataset_name}'\")\n",
    "\n",
    "# Describe the dataset\n",
    "conn.sql(\"DESCRIBE\").df()"
   ]
  },
  {
   "cell_type": "markdown",
   "id": "c8c657fa-3f6e-43f3-937e-a5c17124c7ca",
   "metadata": {},
   "source": [
    "- How many tables were created?\n",
    "\n",
    "  ### Answer:   4\n",
    "---"
   ]
  },
  {
   "cell_type": "markdown",
   "id": "d391ddc3-3017-496d-ad58-b10a4dbd995b",
   "metadata": {},
   "source": [
    "# Question 3: Explore the loaded data\n",
    "Inspect the table ride:"
   ]
  },
  {
   "cell_type": "code",
   "execution_count": 15,
   "id": "da2b19c8-e1a8-4821-94ea-bc73ca03ab6c",
   "metadata": {},
   "outputs": [
    {
     "ename": "ModuleNotFoundError",
     "evalue": "No module named 'numpy'",
     "output_type": "error",
     "traceback": [
      "\u001b[0;31m---------------------------------------------------------------------------\u001b[0m",
      "\u001b[0;31mModuleNotFoundError\u001b[0m                       Traceback (most recent call last)",
      "Cell \u001b[0;32mIn[15], line 1\u001b[0m\n\u001b[0;32m----> 1\u001b[0m df \u001b[38;5;241m=\u001b[39m \u001b[43mpipeline\u001b[49m\u001b[38;5;241;43m.\u001b[39;49m\u001b[43mdataset\u001b[49m\u001b[43m(\u001b[49m\u001b[43mdataset_type\u001b[49m\u001b[38;5;241;43m=\u001b[39;49m\u001b[38;5;124;43m\"\u001b[39;49m\u001b[38;5;124;43mdefault\u001b[39;49m\u001b[38;5;124;43m\"\u001b[39;49m\u001b[43m)\u001b[49m\u001b[38;5;241;43m.\u001b[39;49m\u001b[43mrides\u001b[49m\u001b[38;5;241;43m.\u001b[39;49m\u001b[43mdf\u001b[49m\u001b[43m(\u001b[49m\u001b[43m)\u001b[49m\n\u001b[1;32m      2\u001b[0m df\n",
      "File \u001b[0;32m~/de-zoomcamp-2025/.venv/lib/python3.9/site-packages/dlt/destinations/dataset/relation.py:86\u001b[0m, in \u001b[0;36mBaseReadableDBAPIRelation._wrap_func.<locals>._wrap\u001b[0;34m(*args, **kwargs)\u001b[0m\n\u001b[1;32m     84\u001b[0m \u001b[38;5;28;01mdef\u001b[39;00m\u001b[38;5;250m \u001b[39m\u001b[38;5;21m_wrap\u001b[39m(\u001b[38;5;241m*\u001b[39margs: Any, \u001b[38;5;241m*\u001b[39m\u001b[38;5;241m*\u001b[39mkwargs: Any) \u001b[38;5;241m-\u001b[39m\u001b[38;5;241m>\u001b[39m Any:\n\u001b[1;32m     85\u001b[0m     \u001b[38;5;28;01mwith\u001b[39;00m \u001b[38;5;28mself\u001b[39m\u001b[38;5;241m.\u001b[39mcursor() \u001b[38;5;28;01mas\u001b[39;00m cursor:\n\u001b[0;32m---> 86\u001b[0m         \u001b[38;5;28;01mreturn\u001b[39;00m \u001b[38;5;28;43mgetattr\u001b[39;49m\u001b[43m(\u001b[49m\u001b[43mcursor\u001b[49m\u001b[43m,\u001b[49m\u001b[43m \u001b[49m\u001b[43mfunc_name\u001b[49m\u001b[43m)\u001b[49m\u001b[43m(\u001b[49m\u001b[38;5;241;43m*\u001b[39;49m\u001b[43margs\u001b[49m\u001b[43m,\u001b[49m\u001b[43m \u001b[49m\u001b[38;5;241;43m*\u001b[39;49m\u001b[38;5;241;43m*\u001b[39;49m\u001b[43mkwargs\u001b[49m\u001b[43m)\u001b[49m\n",
      "File \u001b[0;32m~/de-zoomcamp-2025/.venv/lib/python3.9/site-packages/dlt/destinations/sql_client.py:360\u001b[0m, in \u001b[0;36mDBApiCursorImpl.df\u001b[0;34m(self, chunk_size, **kwargs)\u001b[0m\n\u001b[1;32m    354\u001b[0m \u001b[38;5;250m\u001b[39m\u001b[38;5;124;03m\"\"\"Fetches results as data frame in full or in specified chunks.\u001b[39;00m\n\u001b[1;32m    355\u001b[0m \n\u001b[1;32m    356\u001b[0m \u001b[38;5;124;03mMay use native pandas/arrow reader if available. Depending on\u001b[39;00m\n\u001b[1;32m    357\u001b[0m \u001b[38;5;124;03mthe native implementation chunk size may vary.\u001b[39;00m\n\u001b[1;32m    358\u001b[0m \u001b[38;5;124;03m\"\"\"\u001b[39;00m\n\u001b[1;32m    359\u001b[0m \u001b[38;5;28;01mtry\u001b[39;00m:\n\u001b[0;32m--> 360\u001b[0m     \u001b[38;5;28;01mreturn\u001b[39;00m \u001b[38;5;28;43mnext\u001b[39;49m\u001b[43m(\u001b[49m\u001b[38;5;28;43mself\u001b[39;49m\u001b[38;5;241;43m.\u001b[39;49m\u001b[43miter_df\u001b[49m\u001b[43m(\u001b[49m\u001b[43mchunk_size\u001b[49m\u001b[38;5;241;43m=\u001b[39;49m\u001b[43mchunk_size\u001b[49m\u001b[43m)\u001b[49m\u001b[43m)\u001b[49m\n\u001b[1;32m    361\u001b[0m \u001b[38;5;28;01mexcept\u001b[39;00m \u001b[38;5;167;01mStopIteration\u001b[39;00m:\n\u001b[1;32m    362\u001b[0m     \u001b[38;5;28;01mreturn\u001b[39;00m \u001b[38;5;28;01mNone\u001b[39;00m\n",
      "File \u001b[0;32m~/de-zoomcamp-2025/.venv/lib/python3.9/site-packages/dlt/destinations/impl/duckdb/sql_client.py:41\u001b[0m, in \u001b[0;36mDuckDBDBApiCursorImpl.iter_df\u001b[0;34m(self, chunk_size)\u001b[0m\n\u001b[1;32m     38\u001b[0m \u001b[38;5;28;01mdef\u001b[39;00m\u001b[38;5;250m \u001b[39m\u001b[38;5;21miter_df\u001b[39m(\u001b[38;5;28mself\u001b[39m, chunk_size: \u001b[38;5;28mint\u001b[39m) \u001b[38;5;241m-\u001b[39m\u001b[38;5;241m>\u001b[39m Generator[DataFrame, \u001b[38;5;28;01mNone\u001b[39;00m, \u001b[38;5;28;01mNone\u001b[39;00m]:\n\u001b[1;32m     39\u001b[0m     \u001b[38;5;66;03m# full frame\u001b[39;00m\n\u001b[1;32m     40\u001b[0m     \u001b[38;5;28;01mif\u001b[39;00m \u001b[38;5;129;01mnot\u001b[39;00m chunk_size:\n\u001b[0;32m---> 41\u001b[0m         \u001b[38;5;28;01myield\u001b[39;00m \u001b[38;5;28;43mself\u001b[39;49m\u001b[38;5;241;43m.\u001b[39;49m\u001b[43mnative_cursor\u001b[49m\u001b[38;5;241;43m.\u001b[39;49m\u001b[43mfetch_df\u001b[49m\u001b[43m(\u001b[49m\u001b[43m)\u001b[49m\n\u001b[1;32m     42\u001b[0m         \u001b[38;5;28;01mreturn\u001b[39;00m\n\u001b[1;32m     43\u001b[0m     \u001b[38;5;66;03m# iterate\u001b[39;00m\n",
      "\u001b[0;31mModuleNotFoundError\u001b[0m: No module named 'numpy'"
     ]
    }
   ],
   "source": [
    "df = pipeline.dataset(dataset_type=\"default\").rides.df()\n",
    "df"
   ]
  },
  {
   "cell_type": "markdown",
   "id": "b0935d72-9a65-469d-a8a8-914042af5149",
   "metadata": {},
   "source": [
    "- What is the total number of records extracted?\n",
    "\n",
    "  **Answer**: 10,000\n",
    "\n",
    "  ---"
   ]
  },
  {
   "cell_type": "markdown",
   "id": "919fb1bb-9508-4795-9c99-9a330ccadda6",
   "metadata": {},
   "source": [
    "# Question 4: Trip Duration Analysis\n",
    "Run the SQL query below to:\n",
    "\n",
    "- Calculate the average trip duration in minutes."
   ]
  },
  {
   "cell_type": "code",
   "execution_count": null,
   "id": "4044619d-35a0-4370-a538-65775be88654",
   "metadata": {},
   "outputs": [],
   "source": [
    "with pipeline.sql_client() as client:\n",
    "    res = client.execute_sql(\n",
    "            \"\"\"\n",
    "            SELECT\n",
    "            AVG(date_diff('minute', trip_pickup_date_time, trip_dropoff_date_time))\n",
    "            FROM rides;\n",
    "            \"\"\"\n",
    "        )\n",
    "    # Prints column values of the first row\n",
    "    print(res)"
   ]
  },
  {
   "cell_type": "markdown",
   "id": "9e4aa6a5-49ff-4489-a7b1-95cd8996e61d",
   "metadata": {},
   "source": [
    "- What is the average trip duration?\n",
    "\n",
    "  **Answer**:   12,3049"
   ]
  },
  {
   "cell_type": "code",
   "execution_count": null,
   "id": "afe9aa2a-36af-4715-b8c3-665fef929a34",
   "metadata": {},
   "outputs": [],
   "source": []
  }
 ],
 "metadata": {
  "kernelspec": {
   "display_name": "Python 3 (ipykernel)",
   "language": "python",
   "name": "python3"
  },
  "language_info": {
   "codemirror_mode": {
    "name": "ipython",
    "version": 3
   },
   "file_extension": ".py",
   "mimetype": "text/x-python",
   "name": "python",
   "nbconvert_exporter": "python",
   "pygments_lexer": "ipython3",
   "version": "3.9.21"
  }
 },
 "nbformat": 4,
 "nbformat_minor": 5
}
